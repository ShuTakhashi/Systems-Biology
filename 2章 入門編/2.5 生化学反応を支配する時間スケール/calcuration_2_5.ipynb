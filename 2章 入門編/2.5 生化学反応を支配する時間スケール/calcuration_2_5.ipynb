{
 "cells": [
  {
   "cell_type": "markdown",
   "metadata": {},
   "source": [
    "## 2.5 生化学反応系を支配する時間スケール\n",
    "\n",
    "$$\n",
    "\\begin{align}\n",
    "\\frac{dx}{dt} &= a-cx \\\\\n",
    "\\end{align}\n",
    "$$\n",
    "\n",
    "xが安定固定点$a/c$の$1/n$に至るまでの時間を調べる。\n",
    "\n",
    "$$\n",
    "t = \\frac{1}{c}log\\frac{n}{n-1}\n",
    "$$\n",
    "\n",
    "最終的な濃度を基準にすればシステムの変化を流入レート$a$に依らず, 分解レート$c$だけで記述できる。cを固定しaをさまざまな値に変えた時の解を, a/cで割って補正すると, , ,"
   ]
  },
  {
   "cell_type": "code",
   "execution_count": 34,
   "metadata": {},
   "outputs": [],
   "source": [
    "import math\n",
    "import numpy as np\n",
    "import matplotlib.pyplot as plt"
   ]
  },
  {
   "cell_type": "markdown",
   "metadata": {},
   "source": [
    "#### 時間の設定"
   ]
  },
  {
   "cell_type": "code",
   "execution_count": 147,
   "metadata": {},
   "outputs": [],
   "source": [
    "t = 0.0\n",
    "dt = 0.01\n",
    "endTime = 15.0\n",
    "steps = endTime/dt"
   ]
  },
  {
   "cell_type": "markdown",
   "metadata": {},
   "source": [
    "#### パラメータの設定"
   ]
  },
  {
   "cell_type": "code",
   "execution_count": 148,
   "metadata": {},
   "outputs": [
    {
     "name": "stdout",
     "output_type": "stream",
     "text": [
      "[[1]\n",
      " [2]\n",
      " [3]\n",
      " [4]\n",
      " [5]]\n"
     ]
    }
   ],
   "source": [
    "a = np.arange(1,6,1).reshape(5,1)\n",
    "c = 0.5\n",
    "\n",
    "print(a)"
   ]
  },
  {
   "cell_type": "markdown",
   "metadata": {},
   "source": [
    "#### 初期値の設定"
   ]
  },
  {
   "cell_type": "code",
   "execution_count": 149,
   "metadata": {},
   "outputs": [
    {
     "name": "stdout",
     "output_type": "stream",
     "text": [
      "[[0.]\n",
      " [0.]\n",
      " [0.]\n",
      " [0.]\n",
      " [0.]]\n"
     ]
    }
   ],
   "source": [
    "x_0 = np.zeros((len(a),1))\n",
    "print(x_0)\n",
    "\n",
    "x = x_0"
   ]
  },
  {
   "cell_type": "markdown",
   "metadata": {},
   "source": [
    "#### グラフ用の配列の作成"
   ]
  },
  {
   "cell_type": "code",
   "execution_count": 150,
   "metadata": {},
   "outputs": [
    {
     "name": "stdout",
     "output_type": "stream",
     "text": [
      "[]\n"
     ]
    }
   ],
   "source": [
    "t_array = np.arange(0.0, endTime, dt)\n",
    "\n",
    "x_arrays = np.array([[],[],[],[],[]])\n",
    "print(x_arrays)"
   ]
  },
  {
   "cell_type": "markdown",
   "metadata": {},
   "source": [
    "#### 数値計算"
   ]
  },
  {
   "cell_type": "code",
   "execution_count": 151,
   "metadata": {},
   "outputs": [
    {
     "name": "stdout",
     "output_type": "stream",
     "text": [
      "[[0.01       0.01995    0.02985025 ... 1.99890351 1.99890899 1.99891445]\n",
      " [0.02       0.0399     0.0597005  ... 3.99780702 3.99781798 3.99782889]\n",
      " [0.03       0.05985    0.08955075 ... 5.99671053 5.99672698 5.99674334]\n",
      " [0.04       0.0798     0.119401   ... 7.99561404 7.99563597 7.99565779]\n",
      " [0.05       0.09975    0.14925125 ... 9.99451755 9.99454496 9.99457223]]\n"
     ]
    }
   ],
   "source": [
    "for i in range(int(steps)):\n",
    "    t+= dt\n",
    "    x+= dt*(a-c*x)\n",
    "    \n",
    "    x_arrays = np.append(x_arrays, x, axis=1)\n",
    "\n",
    "print(x_arrays)\n",
    "\n"
   ]
  },
  {
   "cell_type": "code",
   "execution_count": 152,
   "metadata": {},
   "outputs": [
    {
     "name": "stdout",
     "output_type": "stream",
     "text": [
      "[[0.005      0.009975   0.01492513 ... 0.99945175 0.9994545  0.99945722]\n",
      " [0.005      0.009975   0.01492513 ... 0.99945175 0.9994545  0.99945722]\n",
      " [0.005      0.009975   0.01492512 ... 0.99945175 0.9994545  0.99945722]\n",
      " [0.005      0.009975   0.01492513 ... 0.99945175 0.9994545  0.99945722]\n",
      " [0.005      0.009975   0.01492513 ... 0.99945175 0.9994545  0.99945722]]\n"
     ]
    }
   ],
   "source": [
    "x_scaled = x_arrays/(a/c)\n",
    "\n",
    "print(x_arrays/(a/c))"
   ]
  },
  {
   "cell_type": "markdown",
   "metadata": {},
   "source": [
    "#### グラフ表示"
   ]
  },
  {
   "cell_type": "code",
   "execution_count": 153,
   "metadata": {},
   "outputs": [
    {
     "data": {
      "image/png": "[encoded data removed]",
      "text/plain": [
       "<Figure size 432x288 with 1 Axes>"
      ]
     },
     "metadata": {
      "needs_background": "light"
     },
     "output_type": "display_data"
    }
   ],
   "source": [
    "plt.plot(t_array, x_arrays[0,:],color='red')\n",
    "plt.plot(t_array, x_arrays[1,:],color='blue')\n",
    "plt.plot(t_array, x_arrays[2,:],color='green')\n",
    "plt.plot(t_array, x_arrays[3,:],color='yellow')\n",
    "plt.plot(t_array, x_arrays[4,:],color='purple')\n",
    "\n",
    "plt.xlabel('t')\n",
    "plt.ylabel('x(t)')\n",
    "plt.show()\n"
   ]
  },
  {
   "cell_type": "code",
   "execution_count": 154,
   "metadata": {},
   "outputs": [
    {
     "data": {
      "image/png": "[encoded data removed]",
      "text/plain": [
       "<Figure size 432x288 with 1 Axes>"
      ]
     },
     "metadata": {
      "needs_background": "light"
     },
     "output_type": "display_data"
    }
   ],
   "source": [
    "plt.plot(t_array, x_scaled[0,:],color='red')\n",
    "plt.plot(t_array, x_scaled[1,:],color='blue')\n",
    "plt.plot(t_array, x_scaled[2,:],color='green')\n",
    "plt.plot(t_array, x_scaled[3,:],color='yellow')\n",
    "plt.plot(t_array, x_scaled[4,:],color='purple')\n",
    "\n",
    "plt.xlabel('t')\n",
    "plt.ylabel('x(t)')\n",
    "plt.show()\n"
   ]
  }
 ],
 "metadata": {
  "kernelspec": {
   "display_name": "base",
   "language": "python",
   "name": "python3"
  },
  "language_info": {
   "codemirror_mode": {
    "name": "ipython",
    "version": 3
   },
   "file_extension": ".py",
   "mimetype": "text/x-python",
   "name": "python",
   "nbconvert_exporter": "python",
   "pygments_lexer": "ipython3",
   "version": "3.9.7"
  }
 },
 "nbformat": 4,
 "nbformat_minor": 2
}
